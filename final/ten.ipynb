{
 "cells": [
  {
   "cell_type": "markdown",
   "id": "26fd09c2",
   "metadata": {},
   "source": [
    "## With a recursive function"
   ]
  },
  {
   "cell_type": "code",
   "execution_count": 3,
   "id": "505405a9",
   "metadata": {},
   "outputs": [
    {
     "name": "stdout",
     "output_type": "stream",
     "text": [
      "225\n"
     ]
    }
   ],
   "source": [
    "def sum_of_cubes(n):\n",
    "    if n == 1:\n",
    "        return 1\n",
    "    return (n**3) + sum_of_cubes(n-1)\n",
    "\n",
    "print(sum_of_cubes(5))"
   ]
  },
  {
   "cell_type": "markdown",
   "id": "cae7500a",
   "metadata": {},
   "source": [
    "## With a trick"
   ]
  },
  {
   "cell_type": "code",
   "execution_count": 2,
   "id": "e55e3c6f",
   "metadata": {},
   "outputs": [
    {
     "name": "stdout",
     "output_type": "stream",
     "text": [
      "225.0\n"
     ]
    }
   ],
   "source": [
    "sum_of_cubes = lambda x : ((x * (x + 1))/2)**2\n",
    "print(sum_of_cubes(5))"
   ]
  }
 ],
 "metadata": {
  "kernelspec": {
   "display_name": "Python 3",
   "language": "python",
   "name": "python3"
  },
  "language_info": {
   "codemirror_mode": {
    "name": "ipython",
    "version": 3
   },
   "file_extension": ".py",
   "mimetype": "text/x-python",
   "name": "python",
   "nbconvert_exporter": "python",
   "pygments_lexer": "ipython3",
   "version": "3.9.13"
  }
 },
 "nbformat": 4,
 "nbformat_minor": 5
}
