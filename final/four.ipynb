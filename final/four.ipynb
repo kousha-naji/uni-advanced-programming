{
 "cells": [
  {
   "cell_type": "code",
   "execution_count": 6,
   "id": "131dc3e5",
   "metadata": {},
   "outputs": [
    {
     "data": {
      "text/plain": [
       "21"
      ]
     },
     "execution_count": 6,
     "metadata": {},
     "output_type": "execute_result"
    }
   ],
   "source": [
    "def fibounacci(terms):\n",
    "    if terms == 0:\n",
    "        print('please enter a positive term!!!')\n",
    "        exit(0)\n",
    "\n",
    "    # 0 1 1 2 3 5 8 ...\n",
    "    first = 0\n",
    "    second = 1\n",
    "\n",
    "    for _ in range(terms):\n",
    "        tmp = first + second\n",
    "        first = second\n",
    "        second = tmp\n",
    "    \n",
    "    return second\n",
    "\n",
    "\n",
    "fibounacci(7)\n"
   ]
  }
 ],
 "metadata": {
  "kernelspec": {
   "display_name": "venv",
   "language": "python",
   "name": "python3"
  },
  "language_info": {
   "codemirror_mode": {
    "name": "ipython",
    "version": 3
   },
   "file_extension": ".py",
   "mimetype": "text/x-python",
   "name": "python",
   "nbconvert_exporter": "python",
   "pygments_lexer": "ipython3",
   "version": "3.12.3"
  }
 },
 "nbformat": 4,
 "nbformat_minor": 5
}
