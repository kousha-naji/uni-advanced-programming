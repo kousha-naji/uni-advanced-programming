{
 "cells": [
  {
   "cell_type": "code",
   "execution_count": null,
   "id": "99dd19f4",
   "metadata": {},
   "outputs": [],
   "source": [
    "def add(a, b):\n",
    "    return a + b\n",
    "\n",
    "def sub(a, b):\n",
    "    return a - b\n",
    "\n",
    "def div(a, b):\n",
    "    return a / b\n",
    "\n",
    "def multi(a, b):\n",
    "    return a * b\n",
    "\n",
    "while True:\n",
    "    print()"
   ]
  }
 ],
 "metadata": {
  "language_info": {
   "name": "python"
  }
 },
 "nbformat": 4,
 "nbformat_minor": 5
}
