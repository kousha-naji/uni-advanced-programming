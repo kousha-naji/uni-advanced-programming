{
 "cells": [
  {
   "cell_type": "code",
   "execution_count": null,
   "id": "8fbf9de9",
   "metadata": {},
   "outputs": [
    {
     "name": "stdout",
     "output_type": "stream",
     "text": [
      "None\n"
     ]
    }
   ],
   "source": [
    "def is_prime(number):\n",
    "    if number == 2:\n",
    "        return True\n",
    "    if number <= 1 :\n",
    "        return False\n",
    "    if number % 2 == 0:\n",
    "        return False\n",
    "    for i in range(3, number//2, 2):\n",
    "        return False if number % 3 == 0 else continue\n",
    "    \n",
    "\n",
    "print(is_prime(5))"
   ]
  }
 ],
 "metadata": {
  "kernelspec": {
   "display_name": "venv",
   "language": "python",
   "name": "python3"
  },
  "language_info": {
   "codemirror_mode": {
    "name": "ipython",
    "version": 3
   },
   "file_extension": ".py",
   "mimetype": "text/x-python",
   "name": "python",
   "nbconvert_exporter": "python",
   "pygments_lexer": "ipython3",
   "version": "3.12.3"
  }
 },
 "nbformat": 4,
 "nbformat_minor": 5
}
