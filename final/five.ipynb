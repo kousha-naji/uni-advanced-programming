{
 "cells": [
  {
   "cell_type": "code",
   "execution_count": 2,
   "id": "fad24fb5",
   "metadata": {},
   "outputs": [
    {
     "name": "stdout",
     "output_type": "stream",
     "text": [
      "0b101011000  in binary\n",
      "0o530  in octal\n",
      "0x158  in hexadecimal\n"
     ]
    }
   ],
   "source": [
    "dec = 344\n",
    "\n",
    "print(bin(dec), ' in binary')\n",
    "print(oct(dec), ' in octal')\n",
    "print(hex(dec), ' in hexadecimal')"
   ]
  }
 ],
 "metadata": {
  "kernelspec": {
   "display_name": "venv",
   "language": "python",
   "name": "python3"
  },
  "language_info": {
   "codemirror_mode": {
    "name": "ipython",
    "version": 3
   },
   "file_extension": ".py",
   "mimetype": "text/x-python",
   "name": "python",
   "nbconvert_exporter": "python",
   "pygments_lexer": "ipython3",
   "version": "3.12.3"
  }
 },
 "nbformat": 4,
 "nbformat_minor": 5
}
