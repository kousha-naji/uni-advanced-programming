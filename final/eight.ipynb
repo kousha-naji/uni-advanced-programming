{
 "cells": [
  {
   "cell_type": "code",
   "execution_count": 24,
   "id": "13be85f4",
   "metadata": {},
   "outputs": [],
   "source": [
    "import time\n",
    "def time_sec(n):\n",
    "    while n:\n",
    "        min, sec = divmod(n, 60)\n",
    "        print('{:02d}:{:02d}'.format(min, sec), end=\"\\r\")\n",
    "        time.sleep(1)\n",
    "        n -= 1\n",
    "\n",
    "    print('stop')"
   ]
  },
  {
   "cell_type": "code",
   "execution_count": 25,
   "id": "dcff1471",
   "metadata": {},
   "outputs": [
    {
     "name": "stdout",
     "output_type": "stream",
     "text": [
      "stop1\n"
     ]
    }
   ],
   "source": [
    "time_sec(5)"
   ]
  }
 ],
 "metadata": {
  "kernelspec": {
   "display_name": "Python 3",
   "language": "python",
   "name": "python3"
  },
  "language_info": {
   "codemirror_mode": {
    "name": "ipython",
    "version": 3
   },
   "file_extension": ".py",
   "mimetype": "text/x-python",
   "name": "python",
   "nbconvert_exporter": "python",
   "pygments_lexer": "ipython3",
   "version": "3.9.13"
  }
 },
 "nbformat": 4,
 "nbformat_minor": 5
}
