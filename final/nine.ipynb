{
 "cells": [
  {
   "cell_type": "markdown",
   "id": "87d08fa8",
   "metadata": {},
   "source": [
    "## With List Comerehension"
   ]
  },
  {
   "cell_type": "code",
   "execution_count": 4,
   "id": "6549117e",
   "metadata": {},
   "outputs": [
    {
     "name": "stdout",
     "output_type": "stream",
     "text": [
      "[65, 39, 221]\n"
     ]
    }
   ],
   "source": [
    "my_list = [12, 65, 54, 39, 102, 339, 221]\n",
    "\n",
    "# after_div = [x/13 for x in my_list]\n",
    "after_div = [x for x in my_list if x % 13 == 0]\n",
    "print(after_div)"
   ]
  },
  {
   "cell_type": "markdown",
   "id": "3a69299a",
   "metadata": {},
   "source": [
    "## With map function"
   ]
  },
  {
   "cell_type": "code",
   "execution_count": 5,
   "id": "ad3899b1",
   "metadata": {},
   "outputs": [
    {
     "name": "stdout",
     "output_type": "stream",
     "text": [
      "[65, 39, 221]\n"
     ]
    }
   ],
   "source": [
    "my_list = [12, 65, 54, 39, 102, 339, 221]\n",
    "\n",
    "after_div_map = filter(lambda x: (x % 13 == 0), my_list)\n",
    "print(list(after_div_map))"
   ]
  }
 ],
 "metadata": {
  "kernelspec": {
   "display_name": "venv",
   "language": "python",
   "name": "python3"
  },
  "language_info": {
   "codemirror_mode": {
    "name": "ipython",
    "version": 3
   },
   "file_extension": ".py",
   "mimetype": "text/x-python",
   "name": "python",
   "nbconvert_exporter": "python",
   "pygments_lexer": "ipython3",
   "version": "3.12.3"
  }
 },
 "nbformat": 4,
 "nbformat_minor": 5
}
