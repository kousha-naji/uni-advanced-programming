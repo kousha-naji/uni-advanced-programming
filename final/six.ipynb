{
 "cells": [
  {
   "cell_type": "code",
   "execution_count": 11,
   "id": "bd5585e9",
   "metadata": {},
   "outputs": [],
   "source": [
    "x = [[12, 7, 3],\n",
    "     [4, 5, 6],\n",
    "     [7,8,9]]\n",
    "\n",
    "y = [[5, 8, 1],\n",
    "     [6, 7, 3],\n",
    "     [4, 5, 9]]"
   ]
  },
  {
   "cell_type": "code",
   "execution_count": 12,
   "id": "f57ae306",
   "metadata": {},
   "outputs": [
    {
     "name": "stdout",
     "output_type": "stream",
     "text": [
      "[17, 15, 4]\n",
      "[10, 12, 9]\n",
      "[11, 13, 18]\n"
     ]
    }
   ],
   "source": [
    "result = [[0, 0, 0],\n",
    "          [0, 0, 0],\n",
    "          [0, 0, 0]]\n",
    "for i in range(len(x)):\n",
    "    for j in range(len(y)):\n",
    "        result[i][j] = x[i][j] + y[i][j]\n",
    "\n",
    "for i in range (len(result)):\n",
    "    print(result[i])"
   ]
  },
  {
   "cell_type": "code",
   "execution_count": 14,
   "id": "dcfb5189",
   "metadata": {},
   "outputs": [
    {
     "data": {
      "text/plain": [
       "3"
      ]
     },
     "execution_count": 14,
     "metadata": {},
     "output_type": "execute_result"
    }
   ],
   "source": [
    "len(x[0])"
   ]
  },
  {
   "cell_type": "code",
   "execution_count": 10,
   "id": "bf15e308",
   "metadata": {},
   "outputs": [],
   "source": [
    "x = [[12, 7, 3],\n",
    "     [4, 5, 6],\n",
    "     [7,8,9]]\n",
    "\n",
    "y = [[5, 8, 1],\n",
    "     [6, 7, 3],\n",
    "     [4, 5, 9]]"
   ]
  },
  {
   "cell_type": "code",
   "execution_count": 11,
   "id": "bcbe400a",
   "metadata": {},
   "outputs": [
    {
     "name": "stdout",
     "output_type": "stream",
     "text": [
      "[[114, 160, 60], [74, 97, 73], [119, 157, 112]]\n"
     ]
    }
   ],
   "source": [
    "result = [[0, 0, 0],\n",
    "          [0, 0, 0],\n",
    "          [0, 0, 0]]\n",
    "\n",
    "for i in range(len(x)):\n",
    "    for j in range(len(x)):\n",
    "        result[i][j] =  ((x[i][0] * y[0][j]) + \n",
    "                        (x[i][1] * y[1][j]) +\n",
    "                        (x[i][2] * y[2][j]))\n",
    "    \n",
    "print(result)"
   ]
  }
 ],
 "metadata": {
  "kernelspec": {
   "display_name": "Python 3",
   "language": "python",
   "name": "python3"
  },
  "language_info": {
   "codemirror_mode": {
    "name": "ipython",
    "version": 3
   },
   "file_extension": ".py",
   "mimetype": "text/x-python",
   "name": "python",
   "nbconvert_exporter": "python",
   "pygments_lexer": "ipython3",
   "version": "3.9.13"
  }
 },
 "nbformat": 4,
 "nbformat_minor": 5
}
